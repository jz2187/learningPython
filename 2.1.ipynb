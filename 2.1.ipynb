{
 "cells": [
  {
   "cell_type": "code",
   "execution_count": 1,
   "metadata": {
    "collapsed": true
   },
   "outputs": [],
   "source": [
    "class thing(object):\n",
    "    pass"
   ]
  },
  {
   "cell_type": "code",
   "execution_count": 2,
   "metadata": {
    "collapsed": true
   },
   "outputs": [],
   "source": [
    "x=thing()"
   ]
  },
  {
   "cell_type": "code",
   "execution_count": 3,
   "metadata": {
    "collapsed": false
   },
   "outputs": [
    {
     "data": {
      "text/plain": [
       "__main__.thing"
      ]
     },
     "execution_count": 3,
     "metadata": {},
     "output_type": "execute_result"
    }
   ],
   "source": [
    "type(x)"
   ]
  },
  {
   "cell_type": "code",
   "execution_count": 52,
   "metadata": {
    "collapsed": true
   },
   "outputs": [],
   "source": [
    "class thing(object):\n",
    "    # \"self\" is \"this\" in class in C++, and can be changed into any name \n",
    "    # the first argument is the object itself\n",
    "    # \"__ __\" right hand side function?\n",
    "    \n",
    "    def __init__(self,name,num):\n",
    "        self.name = name\n",
    "        self.num = num\n",
    "        \n",
    "    def __str__(self):\n",
    "        return \"Top Secret!\"\n",
    "    \n",
    "    def add_one_student(self):\n",
    "        self.num += 1\n",
    "        \n",
    "    def __repr__(self):\n",
    "        return \"thing object with name\" + self.name\n",
    "    \n",
    "    def __it__(self,other):\n",
    "        return self.num < other.num"
   ]
  },
  {
   "cell_type": "code",
   "execution_count": 53,
   "metadata": {
    "collapsed": false
   },
   "outputs": [
    {
     "name": "stdout",
     "output_type": "stream",
     "text": [
      "190\n",
      "Top Secret!\n"
     ]
    }
   ],
   "source": [
    "x=thing(\"Math 101\",190)\n",
    "y=thing(\"Econ 102\",200)\n",
    "# __new__ is called\n",
    "\n",
    "print(x.num)\n",
    "print(x)"
   ]
  },
  {
   "cell_type": "code",
   "execution_count": 54,
   "metadata": {
    "collapsed": false
   },
   "outputs": [],
   "source": [
    "x.add_one_student()"
   ]
  },
  {
   "cell_type": "code",
   "execution_count": 55,
   "metadata": {
    "collapsed": false
   },
   "outputs": [
    {
     "name": "stdout",
     "output_type": "stream",
     "text": [
      "191\n"
     ]
    }
   ],
   "source": [
    "print(x.num)"
   ]
  },
  {
   "cell_type": "code",
   "execution_count": 56,
   "metadata": {
    "collapsed": false
   },
   "outputs": [
    {
     "ename": "TypeError",
     "evalue": "unorderable types: thing() < thing()",
     "output_type": "error",
     "traceback": [
      "\u001b[0;31m---------------------------------------------------------------------------\u001b[0m",
      "\u001b[0;31mTypeError\u001b[0m                                 Traceback (most recent call last)",
      "\u001b[0;32m<ipython-input-56-ab227b882ea1>\u001b[0m in \u001b[0;36m<module>\u001b[0;34m()\u001b[0m\n\u001b[0;32m----> 1\u001b[0;31m \u001b[0mx\u001b[0m\u001b[0;34m<\u001b[0m\u001b[0my\u001b[0m\u001b[0;34m\u001b[0m\u001b[0m\n\u001b[0m",
      "\u001b[0;31mTypeError\u001b[0m: unorderable types: thing() < thing()"
     ]
    }
   ],
   "source": [
    "x<y"
   ]
  },
  {
   "cell_type": "code",
   "execution_count": 57,
   "metadata": {
    "collapsed": false
   },
   "outputs": [
    {
     "data": {
      "text/plain": [
       "True"
      ]
     },
     "execution_count": 57,
     "metadata": {},
     "output_type": "execute_result"
    }
   ],
   "source": [
    "x=\"Awesome!Fantastic!\"\n",
    "y=\"Great!\"\n",
    "x<y"
   ]
  },
  {
   "cell_type": "code",
   "execution_count": null,
   "metadata": {
    "collapsed": false
   },
   "outputs": [],
   "source": [
    "class my_socnet(object):\n",
    "    def __init__(self,string):\n",
    "        self.string = string\n",
    "        \n",
    "    def __it__(self,other):\n",
    "        return len(self.string) < len(other.srtring)\n",
    "    \n",
    "    #def __str__\n",
    "    \n",
    "    #def __add__\n",
    "    \n",
    "    #def __len__\n",
    "    \n",
    "    # too much work\n",
    "    "
   ]
  },
  {
   "cell_type": "code",
   "execution_count": null,
   "metadata": {
    "collapsed": false
   },
   "outputs": [],
   "source": [
    "class my_socnet(str):\n",
    "    # my_sconet derives everything from str except operation \"<\"\n",
    "    def __it__(self,other):\n",
    "        return len(self) < len(other)"
   ]
  },
  {
   "cell_type": "code",
   "execution_count": null,
   "metadata": {
    "collapsed": false
   },
   "outputs": [],
   "source": [
    "x=my_socnet(\"Awesome!Fantastic!\")\n",
    "y=my_socnet(\"Great!\")\n",
    "y<x"
   ]
  },
  {
   "cell_type": "code",
   "execution_count": null,
   "metadata": {
    "collapsed": true
   },
   "outputs": [],
   "source": [
    "z=x+y"
   ]
  },
  {
   "cell_type": "code",
   "execution_count": null,
   "metadata": {
    "collapsed": false
   },
   "outputs": [],
   "source": [
    "type(z)"
   ]
  },
  {
   "cell_type": "code",
   "execution_count": null,
   "metadata": {
    "collapsed": true
   },
   "outputs": [],
   "source": [
    "z=my_socnet(z)"
   ]
  },
  {
   "cell_type": "code",
   "execution_count": null,
   "metadata": {
    "collapsed": false
   },
   "outputs": [],
   "source": [
    "type(z)"
   ]
  },
  {
   "cell_type": "code",
   "execution_count": null,
   "metadata": {
    "collapsed": true
   },
   "outputs": [],
   "source": [
    "class my_socnet(str):\n",
    "    def __it__(self,other):\n",
    "        return len(self) < len(other)\n",
    "    \n",
    "    def __add__(self,other):\n",
    "        return my_socnet(super().__add__(other))\n",
    "    \n",
    "    # SUPER\n",
    "    # c-c1(foo1)-c2(foo2)-c3\n",
    "    # at c3:\n",
    "    # c1().foo() = foo1\n",
    "    # super().foo() = foo2"
   ]
  },
  {
   "cell_type": "code",
   "execution_count": null,
   "metadata": {
    "collapsed": false
   },
   "outputs": [],
   "source": [
    "x=my_socnet(\"Awesome!Fantastic!\")\n",
    "y=my_socnet(\"Great!\")\n",
    "\n",
    "z=x+y\n",
    "type(z)\n",
    "z\n",
    "\n",
    "x<y"
   ]
  },
  {
   "cell_type": "code",
   "execution_count": null,
   "metadata": {
    "collapsed": true
   },
   "outputs": [],
   "source": [
    "# error: syntax error (detected before running the program)\n",
    "# exception: runtime error \"AttributeError\"\n",
    "            # mismatch with data\n",
    "            # try .. except\n",
    "            ## \"while True\" is like \"while (1)\"\n",
    "            "
   ]
  },
  {
   "cell_type": "code",
   "execution_count": null,
   "metadata": {
    "collapsed": false
   },
   "outputs": [],
   "source": [
    "while True:\n",
    "    try:\n",
    "        n=float(input(\"num\"))\n",
    "        d=float(input(\"den\"))\n",
    "        print(n/d)\n",
    "    except ValueError:\n",
    "        print(\"ValueError\")\n",
    "    except:\n",
    "        print(\"other errors\")\n",
    "    "
   ]
  },
  {
   "cell_type": "code",
   "execution_count": null,
   "metadata": {
    "collapsed": true
   },
   "outputs": [],
   "source": []
  }
 ],
 "metadata": {
  "anaconda-cloud": {},
  "kernelspec": {
   "display_name": "Python [default]",
   "language": "python",
   "name": "python3"
  },
  "language_info": {
   "codemirror_mode": {
    "name": "ipython",
    "version": 3
   },
   "file_extension": ".py",
   "mimetype": "text/x-python",
   "name": "python",
   "nbconvert_exporter": "python",
   "pygments_lexer": "ipython3",
   "version": "3.5.2"
  }
 },
 "nbformat": 4,
 "nbformat_minor": 1
}
