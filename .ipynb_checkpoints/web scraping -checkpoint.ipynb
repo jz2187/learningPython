{
 "cells": [
  {
   "cell_type": "code",
   "execution_count": 86,
   "metadata": {
    "collapsed": true
   },
   "outputs": [],
   "source": [
    "from urllib.request import urlopen\n",
    "from bs4 import BeautifulSoup"
   ]
  },
  {
   "cell_type": "code",
   "execution_count": 87,
   "metadata": {
    "collapsed": false
   },
   "outputs": [],
   "source": [
    "html = urlopen(\"http://www.pythonscraping.com/pages/warandpeace.html\")\n",
    "bs0bj = BeautifulSoup(html,\"lxml\")"
   ]
  },
  {
   "cell_type": "code",
   "execution_count": 90,
   "metadata": {
    "collapsed": false
   },
   "outputs": [
    {
     "name": "stdout",
     "output_type": "stream",
     "text": [
      "Anna\n",
      "Pavlovna Scherer\n",
      "Empress Marya\n",
      "Fedorovna\n",
      "Prince Vasili Kuragin\n",
      "Anna Pavlovna\n",
      "St. Petersburg\n",
      "the prince\n",
      "Anna Pavlovna\n",
      "Anna Pavlovna\n",
      "the prince\n",
      "the prince\n",
      "the prince\n",
      "Prince Vasili\n",
      "Anna Pavlovna\n",
      "Anna Pavlovna\n",
      "the prince\n",
      "Wintzingerode\n",
      "King of Prussia\n",
      "le Vicomte de Mortemart\n",
      "Montmorencys\n",
      "Rohans\n",
      "Abbe Morio\n",
      "the Emperor\n",
      "the prince\n",
      "Prince Vasili\n",
      "Dowager Empress Marya Fedorovna\n",
      "the baron\n",
      "Anna Pavlovna\n",
      "the Empress\n",
      "the Empress\n",
      "Anna Pavlovna's\n",
      "Her Majesty\n",
      "Baron\n",
      "Funke\n",
      "The prince\n",
      "Anna\n",
      "Pavlovna\n",
      "the Empress\n",
      "The prince\n",
      "Anatole\n",
      "the prince\n",
      "The prince\n",
      "Anna\n",
      "Pavlovna\n",
      "Anna Pavlovna\n"
     ]
    }
   ],
   "source": [
    "nameList = bs0bj.findAll(\"span\", {\"class\":\"green\"})\n",
    "for name in nameList:\n",
    "    print(name.get_text())"
   ]
  },
  {
   "cell_type": "code",
   "execution_count": 91,
   "metadata": {
    "collapsed": true
   },
   "outputs": [],
   "source": [
    "# 6.27"
   ]
  },
  {
   "cell_type": "code",
   "execution_count": 128,
   "metadata": {
    "collapsed": false
   },
   "outputs": [],
   "source": [
    "from urllib.request import urlopen\n",
    "from bs4 import BeautifulSoup \n",
    "\n",
    "html = urlopen(\"http://www.pythonscraping.com/pages/page3.html\")\n",
    "bs0bj = BeautifulSoup(html, \"lxml\")"
   ]
  },
  {
   "cell_type": "code",
   "execution_count": 122,
   "metadata": {
    "collapsed": false
   },
   "outputs": [],
   "source": [
    "#for child in bs0bj.find(\"table\",{\"id\":\"giftList\"}).descendants:\n",
    "#    print(child)"
   ]
  },
  {
   "cell_type": "code",
   "execution_count": 123,
   "metadata": {
    "collapsed": false
   },
   "outputs": [],
   "source": [
    "#for child in bs0bj.find(\"table\",{\"id\":\"giftList\"}).children:\n",
    "#    print(child)"
   ]
  },
  {
   "cell_type": "code",
   "execution_count": 124,
   "metadata": {
    "collapsed": false
   },
   "outputs": [],
   "source": [
    "#for sibling in bs0bj.find(\"table\",{\"id\":\"giftList\"}).tr.next_siblings:\n",
    "#    print(sibling)"
   ]
  },
  {
   "cell_type": "code",
   "execution_count": 125,
   "metadata": {
    "collapsed": false
   },
   "outputs": [],
   "source": [
    "for sibling in bs0bj.findAll(\"table\", {\"class\":\"gift\", \"id\":\"gift1\"}):\n",
    "    print(sibling)"
   ]
  },
  {
   "cell_type": "code",
   "execution_count": null,
   "metadata": {
    "collapsed": false,
    "scrolled": true
   },
   "outputs": [],
   "source": [
    "#print(bs0bj.body)\n",
    "#print(bs0bj.findAll(\"img\"))\n",
    "images = bs0bj.findAll(\"img\", {\"src\":re.compile(\"\\.\\.\\/img\\/gifts/img.*\\.jpg\")})\n",
    "for image in images:\n",
    "    #print(image.attrs)\n",
    "    #print(image.attrs['src'])\n",
    "    print(image[\"src\"])\n",
    "    print(image)\n",
    "    print(image.attrs[\"href\"])"
   ]
  },
  {
   "cell_type": "code",
   "execution_count": null,
   "metadata": {
    "collapsed": false,
    "scrolled": false
   },
   "outputs": [],
   "source": [
    "from urllib.request import urlopen\n",
    "from bs4 import BeautifulSoup \n",
    "\n",
    "html = urlopen(\"http://en.wikipedia.org/wiki/Kevin_Bacon\")\n",
    "bs0bj = BeautifulSoup(html,\"lxml\")\n",
    "\n",
    "#for link in bsObj.findAll(\"a\"):\n",
    "#    if 'href' in link.attrs:\n",
    "#        print(link.attrs['href'])\n",
    "\n",
    "\n",
    "for link in bs0bj.find(\"div\",{\"id\":\"bodyContent\"}).findAll(\"a\", href=re.compile(\"^(/wiki/)((?!:).)*$\")):\n",
    "    if 'href' in link.attrs:\n",
    "        print(link.attrs['href'])"
   ]
  },
  {
   "cell_type": "code",
   "execution_count": null,
   "metadata": {
    "collapsed": false
   },
   "outputs": [
    {
     "name": "stdout",
     "output_type": "stream",
     "text": [
      "/wiki/Loverboy_(2005_film)\n",
      "/wiki/Matt_Dillon\n",
      "/wiki/Terrence_Howard\n",
      "/wiki/Sean_Astin\n",
      "/wiki/Ian_McKellen\n",
      "/wiki/Nazi\n",
      "/wiki/Nationalism\n",
      "/wiki/Nationalism#cite_note-herbst-war-and-state-62\n",
      "/wiki/Ernest_Gellner\n",
      "/wiki/Rationalism\n",
      "/wiki/Constructivist_epistemology\n",
      "/wiki/Constructivism_(psychological_school)\n",
      "/wiki/Kurt_W._Fischer\n",
      "/wiki/Cultural-historical_psychology\n",
      "/wiki/Constructivism_(learning_theory)\n",
      "/wiki/National_Skill_Standards_Board\n",
      "/wiki/Certificate_of_Initial_Mastery\n",
      "/wiki/Criterion-referenced_test\n",
      "/wiki/Digital_object_identifier\n",
      "/wiki/Meta-Object_Facility\n",
      "/wiki/ISO_31-0\n",
      "/wiki/Document_Style_Semantics_and_Specification_Language\n",
      "/wiki/ISO/IEC_8652\n",
      "/wiki/ISO/IEC_9593\n",
      "/wiki/Universal_Disk_Format\n",
      "/wiki/ISO/IEC_19752\n",
      "/wiki/Requirements_engineering\n",
      "/wiki/ISO_22000\n",
      "/wiki/ISO_6\n",
      "/wiki/High-speed_photography\n",
      "/wiki/Photographic_filter\n",
      "/wiki/Depth_of_focus\n",
      "/wiki/Reciprocity_(photography)\n",
      "/wiki/Power_law\n",
      "/wiki/Initial_mass_function\n",
      "/wiki/ArXiv\n",
      "/wiki/Astronomy\n",
      "/wiki/The_Astronomical_Journal\n",
      "/wiki/N._H._Baker\n",
      "/wiki/Astronomical_Journal\n",
      "/wiki/John_Gallagher_III\n",
      "/wiki/Dwarf_irregular_galaxies\n",
      "/wiki/Hubble_sequence\n",
      "/wiki/Lenticular_galaxy\n",
      "/wiki/Digital_object_identifier\n",
      "/wiki/ISO/IEC_8859-15\n",
      "/wiki/EBCDIC_297\n",
      "/wiki/Code_page_367\n",
      "/wiki/Horizontal_tabulation\n",
      "/wiki/Scroll_lock\n",
      "/wiki/Function_key\n",
      "/wiki/Plugboard\n",
      "/wiki/IBM_514\n",
      "/wiki/IBM_403\n",
      "/wiki/Tabulating_machine\n",
      "/wiki/IBM_407\n",
      "/wiki/Tabulating_machine#Models_and_timeline\n",
      "/wiki/Fan-fold_paper\n",
      "/wiki/Letter_(message)\n",
      "/wiki/Employment_reference_letter\n",
      "/wiki/Knowledge_worker\n",
      "/wiki/Three-component_theory_of_stratification\n",
      "/wiki/List_of_sociological_associations\n",
      "/wiki/Index_of_sociology_articles\n",
      "/wiki/Clan\n",
      "/wiki/Nation-building\n",
      "/wiki/Ethnic_group\n",
      "/wiki/Social_stratification\n",
      "/wiki/Wealth\n",
      "/wiki/Adam_Smith\n",
      "/wiki/Invisible_hand\n",
      "/wiki/Cambridge_University_Press\n"
     ]
    }
   ],
   "source": [
    "from urllib.request import urlopen\n",
    "from bs4 import BeautifulSoup \n",
    "import datetime\n",
    "import random\n",
    "import re\n",
    "\n",
    "random.seed(datetime.datetime.now())\n",
    "def getLinks(articleUrl):\n",
    "    html = urlopen(\"http://en.wikipedia.org\"+articleUrl)\n",
    "    bs0bj = BeautifulSoup(html,\"lxml\")\n",
    "    return bs0bj.find(\"div\", {\"id\":\"bodyContent\"}).findAll(\"a\", \n",
    "                    href=re.compile(\"^(/wiki/)((?!:).)*$\"))\n",
    "\n",
    "links = getLinks(\"/wiki/Kevin_Bacon\")\n",
    "while len(links) > 0:\n",
    "    newArticle = links[random.randint(0, len(links)-1)].attrs[\"href\"]\n",
    "    print(newArticle)\n",
    "    links = getLinks(newArticle)"
   ]
  },
  {
   "cell_type": "code",
   "execution_count": null,
   "metadata": {
    "collapsed": true
   },
   "outputs": [],
   "source": []
  }
 ],
 "metadata": {
  "anaconda-cloud": {},
  "kernelspec": {
   "display_name": "Python [conda root]",
   "language": "python",
   "name": "conda-root-py"
  },
  "language_info": {
   "codemirror_mode": {
    "name": "ipython",
    "version": 3
   },
   "file_extension": ".py",
   "mimetype": "text/x-python",
   "name": "python",
   "nbconvert_exporter": "python",
   "pygments_lexer": "ipython3",
   "version": "3.5.2"
  }
 },
 "nbformat": 4,
 "nbformat_minor": 1
}
